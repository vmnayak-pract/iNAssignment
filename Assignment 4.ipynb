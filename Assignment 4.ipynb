{
 "cells": [
  {
   "cell_type": "markdown",
   "metadata": {},
   "source": [
    "# Assignment 4"
   ]
  },
  {
   "cell_type": "markdown",
   "metadata": {},
   "source": [
    "1.1 Write a Python Program(with class concepts) to find the area of the triangle using the below\n",
    "formula.\n",
    "area = (s*(s-a)*(s-b)*(s-c)) ** 0.5\n",
    "Function to take the length of the sides of triangle from user should be defined in the parent\n",
    "class and function to calculate the area should be defined in subclass."
   ]
  },
  {
   "cell_type": "code",
   "execution_count": 7,
   "metadata": {},
   "outputs": [
    {
     "name": "stdout",
     "output_type": "stream",
     "text": [
      "Enter 1st side: 45\n",
      "Enter 2nd side: 45\n",
      "Enter 3rd side: 45\n",
      "area : 876.8507213317441\n"
     ]
    }
   ],
   "source": [
    "class poly:\n",
    "    def __init__(self):             \n",
    "        a= int(input(\"Enter 1st side: \"))\n",
    "        b= int(input(\"Enter 2nd side: \"))\n",
    "        c= int(input(\"Enter 3rd side: \"))\n",
    "\n",
    "class triangle(poly):\n",
    "    def __init__(self):\n",
    "        super().__init__()\n",
    "\n",
    "    def area_calc(self):\n",
    "        s = (a+b+c)/2\n",
    "        return (s*(s-a)*(s-b)*(s-c))**0.5        \n",
    "\n",
    "trg1 = triangle()\n",
    "print(f\"area : {trg1.area_calc()}\")"
   ]
  },
  {
   "cell_type": "markdown",
   "metadata": {},
   "source": [
    "1.2 Write a function filter_long_words() that takes a list of words and an integer n and returns\n",
    "the list of words that are longer than n."
   ]
  },
  {
   "cell_type": "code",
   "execution_count": 6,
   "metadata": {},
   "outputs": [
    {
     "name": "stdout",
     "output_type": "stream",
     "text": [
      "['This', 'string', 'being', 'used', 'filter', 'long', 'words', 'present']\n"
     ]
    }
   ],
   "source": [
    "def filter_long_words(wlen, lstr):  \n",
    "    words = lstr.split(\" \")  \n",
    "    return [word for word in words if len(word) > wlen]\n",
    "\n",
    "print(filter_long_words(3, \"This is a string being used to filter out the long words present\"))"
   ]
  },
  {
   "cell_type": "markdown",
   "metadata": {},
   "source": [
    "2.1 Write a Python program using function concept that maps list of words into a list of integers\n",
    "representing the lengths of the corresponding words.\n",
    "Hint: If a list [ ab,cde,erty] is passed on to the python function output should come as [2,3,4]\n",
    "Here 2,3 and 4 are the lengths of the words in the list."
   ]
  },
  {
   "cell_type": "code",
   "execution_count": 8,
   "metadata": {},
   "outputs": [
    {
     "name": "stdout",
     "output_type": "stream",
     "text": [
      "Length of the words in list are: [5, 5, 6, 0]\n"
     ]
    }
   ],
   "source": [
    "def map_list_length(List):\n",
    "    return list(map(len, List))\n",
    "\n",
    "word_list= ['vijay','nayak','python','']\n",
    "word_length=map_list_length(word_list)\n",
    "\n",
    "print(f\"Length of the words in list are: {word_length}\")"
   ]
  },
  {
   "cell_type": "markdown",
   "metadata": {},
   "source": [
    "2.2 Write a Python function which takes a character (i.e. a string of length 1) and returns True if\n",
    "it is a vowel, False otherwise."
   ]
  },
  {
   "cell_type": "code",
   "execution_count": 30,
   "metadata": {},
   "outputs": [
    {
     "name": "stdout",
     "output_type": "stream",
     "text": [
      "Enter charcter to check vowel: a\n",
      "Is entered char vowel: True\n"
     ]
    }
   ],
   "source": [
    "def is_vowel(ip_char):\n",
    "    if(len(ip_char)==1):\n",
    "        vowels=['a','e','i','o','u']\n",
    "        if (ip_char.lower() in vowels):\n",
    "            isvowel_op= True\n",
    "        else:\n",
    "            isvowel_op = False\n",
    "    else:\n",
    "        isvowel_op=\"Enter single char only!\"        \n",
    "    \n",
    "    return isvowel_op\n",
    "\n",
    "ip_char = input(\"Enter charcter to check vowel: \")\n",
    "op_vowel = is_vowel(ip_char) \n",
    "print(f\"Is entered char vowel: {op_vowel}\")"
   ]
  },
  {
   "cell_type": "code",
   "execution_count": null,
   "metadata": {},
   "outputs": [],
   "source": []
  },
  {
   "cell_type": "code",
   "execution_count": null,
   "metadata": {},
   "outputs": [],
   "source": []
  }
 ],
 "metadata": {
  "kernelspec": {
   "display_name": "Python 3",
   "language": "python",
   "name": "python3"
  },
  "language_info": {
   "codemirror_mode": {
    "name": "ipython",
    "version": 3
   },
   "file_extension": ".py",
   "mimetype": "text/x-python",
   "name": "python",
   "nbconvert_exporter": "python",
   "pygments_lexer": "ipython3",
   "version": "3.8.5"
  }
 },
 "nbformat": 4,
 "nbformat_minor": 4
}
